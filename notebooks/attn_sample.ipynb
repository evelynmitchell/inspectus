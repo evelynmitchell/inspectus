{
 "cells": [
  {
   "cell_type": "code",
   "execution_count": null,
   "id": "749af52a-5cdd-46c7-a1bf-8d724a7cb1c6",
   "metadata": {},
   "outputs": [],
   "source": [
    "import numpy as np\n",
    "from inspectus import attention"
   ]
  },
  {
   "cell_type": "code",
   "execution_count": null,
   "id": "initial_id",
   "metadata": {
    "ExecuteTime": {
     "start_time": "2024-05-22T14:20:05.744258Z"
    },
    "jupyter": {
     "is_executing": true
    }
   },
   "outputs": [],
   "source": [
    "arr = [\n",
    "    [\n",
    "        [[0.1, 0.7, 0.2],\n",
    "         [0.2, 0.7, 0.1],\n",
    "         [0.1, 0.7, 0.2],\n",
    "        ]\n",
    "    ]\n",
    "]\n",
    "\n",
    "arr = np.array(arr)\n",
    "\n",
    "attention(arr, ['a', 'b', 'c'], ['d', 'e', 'f'])"
   ]
  },
  {
   "cell_type": "code",
   "execution_count": null,
   "id": "cc40b872",
   "metadata": {},
   "outputs": [],
   "source": []
  }
 ],
 "metadata": {
  "kernelspec": {
   "display_name": "Python 3 (ipykernel)",
   "language": "python",
   "name": "python3"
  },
  "language_info": {
   "codemirror_mode": {
    "name": "ipython",
    "version": 3
   },
   "file_extension": ".py",
   "mimetype": "text/x-python",
   "name": "python",
   "nbconvert_exporter": "python",
   "pygments_lexer": "ipython3",
   "version": "3.10.11"
  }
 },
 "nbformat": 4,
 "nbformat_minor": 5
}
