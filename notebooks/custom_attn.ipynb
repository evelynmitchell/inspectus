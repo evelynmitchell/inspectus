{
 "cells": [
  {
   "cell_type": "markdown",
   "id": "82708285ab73b781",
   "metadata": {},
   "source": [
    "# Visualizing Custom Defined Attentions\n",
    "\n",
    "The attention matrix is essentially a 2D matrix (query_tokens, key_tokens). However, in scenarios where multiple layers and heads are involved, the dimensionality can increase to 3D or 4D, represented as (layer, query, key) or (layer, head, query, key) respectively."
   ]
  },
  {
   "metadata": {},
   "cell_type": "code",
   "source": [
    "!pip install inspectus\n",
    "!pip install --upgrade altair\n",
    "!pip install labml"
   ],
   "id": "cc6d1b4cd143afe6",
   "outputs": [],
   "execution_count": null
  },
  {
   "cell_type": "code",
   "id": "749af52a-5cdd-46c7-a1bf-8d724a7cb1c6",
   "metadata": {},
   "source": [
    "import numpy as np\n",
    "import inspectus"
   ],
   "outputs": [],
   "execution_count": null
  },
  {
   "cell_type": "code",
   "id": "initial_id",
   "metadata": {
    "jupyter": {
     "is_executing": true
    }
   },
   "source": [
    "# single attention matrix\n",
    "\n",
    "arr = np.random.rand(3, 5)\n",
    "\n",
    "inspectus.attention(arr, ['a', 'b', 'c'], [f'{i}' for i in range(5)])"
   ],
   "outputs": [],
   "execution_count": null
  },
  {
   "cell_type": "code",
   "id": "cc40b872",
   "metadata": {},
   "source": [
    "# Multiple layers\n",
    "\n",
    "arr = np.random.rand(2, 3, 5)\n",
    "\n",
    "inspectus.attention(arr, ['a', 'b', 'c'], [f'{i}' for i in range(5)])"
   ],
   "outputs": [],
   "execution_count": null
  },
  {
   "cell_type": "code",
   "id": "52152f9c698f4e9b",
   "metadata": {},
   "source": [
    "# Multiple layers and heads\n",
    "\n",
    "arr = np.random.rand(2, 2, 3, 5)\n",
    "\n",
    "inspectus.attention(arr, ['a', 'b', 'c'], [f'{i}' for i in range(5)])"
   ],
   "outputs": [],
   "execution_count": null
  }
 ],
 "metadata": {
  "kernelspec": {
   "display_name": "Python 3 (ipykernel)",
   "language": "python",
   "name": "python3"
  },
  "language_info": {
   "codemirror_mode": {
    "name": "ipython",
    "version": 3
   },
   "file_extension": ".py",
   "mimetype": "text/x-python",
   "name": "python",
   "nbconvert_exporter": "python",
   "pygments_lexer": "ipython3",
   "version": "3.11.0"
  }
 },
 "nbformat": 4,
 "nbformat_minor": 5
}
