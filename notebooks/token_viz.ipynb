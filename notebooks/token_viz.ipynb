{
 "cells": [
  {
   "cell_type": "code",
   "execution_count": null,
   "id": "4b2ac71c-76f9-4398-bc3b-2ff07efc6297",
   "metadata": {},
   "outputs": [],
   "source": [
    "import inspectus"
   ]
  },
  {
   "cell_type": "code",
   "execution_count": null,
   "id": "77c87619-9d3c-4a5d-b264-d0e649136aed",
   "metadata": {},
   "outputs": [],
   "source": [
    "import numpy as np\n",
    "\n",
    "logits = np.random.rand(10, 100)\n",
    "token_ids = np.array([i for i in range(10)])\n",
    "tokens = ['a', 'b', 'c', 'd', 'c', 'd', 'e', 'f', 'g', 'h']\n",
    "\n",
    "from torch.nn.functional import nll_loss\n",
    "\n",
    "def loss_fn(logits, target):\n",
    "    import torch\n",
    "    logits = torch.from_numpy(logits)\n",
    "    target = torch.from_numpy(target)\n",
    "\n",
    "    return nll_loss(logits, target).item()\n",
    "    \n",
    "\n",
    "inspectus.token_viz.visalize_token_loss(logits, token_ids, tokens, loss_fn)"
   ]
  },
  {
   "cell_type": "code",
   "execution_count": null,
   "id": "7f7742d7-b137-4fe5-9875-0a5bfeb8dcaf",
   "metadata": {},
   "outputs": [],
   "source": []
  }
 ],
 "metadata": {
  "kernelspec": {
   "display_name": "Python (ml)",
   "language": "python",
   "name": "ml"
  },
  "language_info": {
   "codemirror_mode": {
    "name": "ipython",
    "version": 3
   },
   "file_extension": ".py",
   "mimetype": "text/x-python",
   "name": "python",
   "nbconvert_exporter": "python",
   "pygments_lexer": "ipython3",
   "version": "3.9.18"
  }
 },
 "nbformat": 4,
 "nbformat_minor": 5
}
