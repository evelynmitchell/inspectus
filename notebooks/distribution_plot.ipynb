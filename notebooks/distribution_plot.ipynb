{
 "cells": [
  {
   "cell_type": "markdown",
   "id": "bef73dca35d720eb",
   "metadata": {},
   "source": [
    "# Distribution Plot\n",
    "\n",
    "[![Open In Colab](https://colab.research.google.com/assets/colab-badge.svg)](https://colab.research.google.com/github/labmlai/inspectus/blob/main/notebooks/distribution_plot.ipynb)\n",
    "\n",
    "This notebook demonstrates the distribution plot of inspectus. The distribution plot is a plot that shows the distribution of a series of data.\n",
    "At each step, the distribution of the data is calculated and maximum of 5 bands are drawn from 9 basis points. (0, 6.68, 15.87, 30.85, 50.00, 69.15, 84.13, 93.32, 100.00)\n",
    "To focus on parts of the plot and zoom in, the minimap can be used. To select a single plot, use the legend on the top right."
   ]
  },
  {
   "cell_type": "markdown",
   "id": "7426f6fd8b04e8d6",
   "metadata": {},
   "source": [
    "![Training Loss Zoomed in](../assets/mnist_train_loss_tail.png)"
   ]
  },
  {
   "cell_type": "markdown",
   "id": "58c55ffa7bd8f0cb",
   "metadata": {},
   "source": [
    "Refer to the function documentation for more information. We'll explore common use cases in this notebook."
   ]
  },
  {
   "metadata": {},
   "cell_type": "code",
   "source": [
    "!pip install inspectus\n",
    "!pip install --upgrade altair\n",
    "!pip install labml"
   ],
   "id": "fdbbe12df16e7dbb",
   "outputs": [],
   "execution_count": null
  },
  {
   "cell_type": "code",
   "id": "a8fe80216fd3f6af",
   "metadata": {},
   "source": [
    "# Line chart\n",
    "import inspectus\n",
    "\n",
    "inspectus.distribution({'x': [x for x in range(0, 100)]})"
   ],
   "outputs": [],
   "execution_count": null
  },
  {
   "cell_type": "markdown",
   "id": "2aaf0f94b1314eeb",
   "metadata": {},
   "source": [
    "To plot a distribution, instead of a single value at each point, a list of values can be provided. The distribution plot will show the distribution of the values at each point."
   ]
  },
  {
   "cell_type": "code",
   "id": "9ffc4a9f87a16efb",
   "metadata": {},
   "source": [
    "import numpy as np\n",
    "\n",
    "def random_loss():\n",
    "    return np.array([[1/x**2 + var/5 for var in np.random.rand(100)] for x in np.linspace(1, 5, num=500)])\n",
    "\n",
    "train_loss = random_loss()\n",
    "valid_loss = random_loss()+1\n",
    "\n",
    "inspectus.distribution({'training_loss': train_loss, 'validation_loss': valid_loss})"
   ],
   "outputs": [],
   "execution_count": null
  },
  {
   "cell_type": "code",
   "id": "67c22f390259fbab",
   "metadata": {},
   "source": [
    "# Not showing mean\n",
    "inspectus.distribution({'training_loss': train_loss, 'validation_loss': valid_loss}, include_mean=False)"
   ],
   "outputs": [],
   "execution_count": null
  },
  {
   "cell_type": "code",
   "id": "ba64448868f58fcd",
   "metadata": {},
   "source": [
    "# showing borders\n",
    "inspectus.distribution({'training_loss': train_loss, 'validation_loss': valid_loss}, include_borders=True)"
   ],
   "outputs": [],
   "execution_count": null
  },
  {
   "cell_type": "markdown",
   "id": "e7a27e56be49df20",
   "metadata": {},
   "source": [
    "Distribution function also directly supports the output format of our data logger."
   ]
  },
  {
   "cell_type": "code",
   "id": "ef99ff3dbea9735f",
   "metadata": {},
   "source": [
    "from inspectus import data_logger\n",
    "\n",
    "d_log = inspectus.data_logger.DataLogger('sample')\n",
    "d_log.clear()\n",
    "for i, entry in enumerate(train_loss):\n",
    "    d_log.save('train_loss', entry, i)\n",
    "for i, entry in enumerate(valid_loss):\n",
    "    d_log.save('valid_loss', entry, i)\n",
    "    \n",
    "tl = d_log.read('train_loss')\n",
    "vl = d_log.read('valid_loss')\n",
    "\n",
    "inspectus.distribution({'training_loss': train_loss, 'validation_loss': valid_loss})"
   ],
   "outputs": [],
   "execution_count": null
  },
  {
   "cell_type": "markdown",
   "id": "e905ac71cda23652",
   "metadata": {},
   "source": [
    "When passing an array of dictionaries as data, the format of each dictionary should be:\n",
    "   - `\"values\": [list of values], \"step\": step`\n",
    "      - In this case the distributions will be calculated for each step.\n",
    "  - `\"histogram\": [list of values for basis points], \"step\": step, \"mean\": mean`\n",
    "    - In this case the given values are used to render bands on the plot\n",
    "\n",
    "To manually calculate percentiles for basis points of the distribution, use `inspectus.series_to_distribution` "
   ]
  },
  {
   "cell_type": "code",
   "id": "f6123cb81250501f",
   "metadata": {},
   "source": [],
   "outputs": [],
   "execution_count": null
  }
 ],
 "metadata": {
  "kernelspec": {
   "display_name": "Python (ml)",
   "language": "python",
   "name": "ml"
  },
  "language_info": {
   "codemirror_mode": {
    "name": "ipython",
    "version": 3
   },
   "file_extension": ".py",
   "mimetype": "text/x-python",
   "name": "python",
   "nbconvert_exporter": "python",
   "pygments_lexer": "ipython3",
   "version": "3.9.18"
  }
 },
 "nbformat": 4,
 "nbformat_minor": 5
}
