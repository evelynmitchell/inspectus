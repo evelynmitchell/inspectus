{
 "cells": [
  {
   "metadata": {},
   "cell_type": "markdown",
   "source": "[![Open In Colab](https://colab.research.google.com/assets/colab-badge.svg)](https://colab.research.google.com/github/labmlai/inspectus/blob/main/notebooks/hf_phi.ipynb)",
   "id": "92d08d67719cfcf6"
  },
  {
   "metadata": {},
   "cell_type": "code",
   "source": [
    "!pip install inspectus\n",
    "!pip install transformers"
   ],
   "id": "939783e341b4bed2",
   "outputs": [],
   "execution_count": null
  },
  {
   "cell_type": "code",
   "id": "f2a67fce-d6f0-4849-bf8a-e6fea2d89e3b",
   "metadata": {},
   "source": [
    "from transformers import AutoModelForCausalLM, AutoTokenizer\n",
    "import inspectus\n",
    "import torch"
   ],
   "outputs": [],
   "execution_count": null
  },
  {
   "cell_type": "code",
   "id": "1399be32-660a-43c9-a62b-b11a33615537",
   "metadata": {},
   "source": [
    "model = AutoModelForCausalLM.from_pretrained(\n",
    "    \"microsoft/Phi-3-mini-4k-instruct\",\n",
    "    trust_remote_code=True)\n",
    "\n",
    "tokenizer = AutoTokenizer.from_pretrained(\n",
    "    \"microsoft/Phi-3-mini-4k-instruct\",\n",
    "    trust_remote_code=True)"
   ],
   "outputs": [],
   "execution_count": null
  },
  {
   "cell_type": "code",
   "id": "ee0aa903-0999-4f99-87fd-4489ed268171",
   "metadata": {},
   "source": [
    "tokenized = tokenizer(\n",
    "    'Q: Weng earns $12 an hour for babysitting. Yesterday, she just did 50 minutes of babysitting. How much did she earn?\\nA:10\\n',\n",
    "    return_tensors='pt',\n",
    ")\n",
    "input_ids = tokenized['input_ids']\n",
    "tokens = [tokenizer.convert_ids_to_tokens(t.item()) for t in input_ids[0]]"
   ],
   "outputs": [],
   "execution_count": null
  },
  {
   "cell_type": "code",
   "id": "01082e91-e9c8-4038-8444-8c04d4fff949",
   "metadata": {},
   "source": [
    "with torch.no_grad():\n",
    "    res = model(input_ids=input_ids.to(model.device), output_attentions=True)"
   ],
   "outputs": [],
   "execution_count": null
  },
  {
   "cell_type": "code",
   "id": "b388e992-ae8b-40ee-acbc-505a63539b0f",
   "metadata": {},
   "source": [
    "inspectus.attention(res['attentions'], tokens)"
   ],
   "outputs": [],
   "execution_count": null
  }
 ],
 "metadata": {
  "kernelspec": {
   "display_name": "Python 3 (ipykernel)",
   "language": "python",
   "name": "python3"
  },
  "language_info": {
   "codemirror_mode": {
    "name": "ipython",
    "version": 3
   },
   "file_extension": ".py",
   "mimetype": "text/x-python",
   "name": "python",
   "nbconvert_exporter": "python",
   "pygments_lexer": "ipython3",
   "version": "3.11.0"
  }
 },
 "nbformat": 4,
 "nbformat_minor": 5
}
