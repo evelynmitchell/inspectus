{
 "cells": [
  {
   "cell_type": "code",
   "id": "2d783fd9-f92f-4f97-8176-4b62c581b4c2",
   "metadata": {},
   "source": [
    "import numpy as np"
   ],
   "outputs": [],
   "execution_count": null
  },
  {
   "cell_type": "code",
   "id": "1deeb6c57b740d74",
   "metadata": {},
   "source": [
    "# Binned heatmap\n",
    "from inspectus.binned_heatmap_viz import data_to_table\n",
    "from inspectus.binned_heatmap_viz import render\n",
    "\n",
    "arr = np.random.rand(1000)\n",
    "x_data = np.array([x%10 for x in range(1000)])\n",
    "table = data_to_table(arr, x_data)\n",
    "\n",
    "render([table], names=['test 1'], x_name=\"x\", max_bins=10, width=500, height=500, height_minimap=100)"
   ],
   "outputs": [],
   "execution_count": null
  },
  {
   "cell_type": "code",
   "id": "aa358a22-c450-49f3-b6f7-c511f8b70ad8",
   "metadata": {},
   "source": [
    "# Histogram\n",
    "from inspectus.histogram_viz import data_to_table\n",
    "from inspectus.histogram_viz import render\n",
    "\n",
    "data = np.random.rand(1000)\n",
    "table = data_to_table(data, low=None, high=None)\n",
    "\n",
    "render(table, height=500,width=500,height_minimap=100)"
   ],
   "outputs": [],
   "execution_count": null
  },
  {
   "cell_type": "code",
   "id": "9277ed69754b8c1c",
   "metadata": {},
   "source": [
    "# Scatter\n",
    "from inspectus.scatter_viz import data_to_table\n",
    "from inspectus.scatter_viz import render\n",
    "\n",
    "data = np.random.rand(1000)\n",
    "x_data = np.array([x%10 for x in range(1000)])\n",
    "\n",
    "table = data_to_table(data,x_data, noise=(0.2,0.2))\n",
    "render([table], names=['test1'],circle_size=50,x_name='hehe',height=500,width=500,height_minimap=100)"
   ],
   "outputs": [],
   "execution_count": null
  },
  {
   "cell_type": "code",
   "id": "ce9c6c23-a830-48dd-8115-0b0db7bd2a73",
   "metadata": {},
   "source": [],
   "outputs": [],
   "execution_count": null
  }
 ],
 "metadata": {
  "kernelspec": {
   "display_name": "Python (ml)",
   "language": "python",
   "name": "ml"
  },
  "language_info": {
   "codemirror_mode": {
    "name": "ipython",
    "version": 3
   },
   "file_extension": ".py",
   "mimetype": "text/x-python",
   "name": "python",
   "nbconvert_exporter": "python",
   "pygments_lexer": "ipython3",
   "version": "3.9.18"
  }
 },
 "nbformat": 4,
 "nbformat_minor": 5
}
