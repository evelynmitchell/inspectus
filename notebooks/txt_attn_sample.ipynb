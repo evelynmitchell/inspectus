{
 "cells": [
  {
   "cell_type": "code",
   "execution_count": 1,
   "id": "initial_id",
   "metadata": {
    "ExecuteTime": {
     "end_time": "2024-05-21T18:28:19.414035Z",
     "start_time": "2024-05-21T18:28:19.395488Z"
    }
   },
   "outputs": [
    {
     "data": {
      "text/html": [
       "<script src=\"https://cdn.statically.io/gist/lakshith-403/6c40cc4e37d07676f421108d9d0109a6/raw/3570ac6da38a5d7250c6b6aee3e18bcf70b71d0f/labml_attn.js\"></script><link rel=\"stylesheet\" href=\"https://cdn.statically.io/gist/lakshith-403/81b16b30a7f2c853a536f3d3975a7693/raw/aaee9494e96c5370b27821e114562d2d8e64ce39/labml_attn.css\">"
      ],
      "text/plain": [
       "<IPython.core.display.HTML object>"
      ]
     },
     "metadata": {},
     "output_type": "display_data"
    },
    {
     "data": {
      "text/html": [
       "<div id=\"id_1ae42bd217a011efab8db2825e7af68a\"></div>"
      ],
      "text/plain": [
       "<IPython.core.display.HTML object>"
      ]
     },
     "metadata": {},
     "output_type": "display_data"
    },
    {
     "data": {
      "text/html": [
       "<script>window.chartsEmbed('id_1ae42bd217a011efab8db2825e7af68a')</script>"
      ],
      "text/plain": [
       "<IPython.core.display.HTML object>"
      ]
     },
     "metadata": {},
     "output_type": "display_data"
    }
   ],
   "source": [
    "from python.inspectus.txt_attention import init_inline_viz, text_attention\n",
    "\n",
    "init_inline_viz()\n",
    "text_attention()"
   ]
  },
  {
   "cell_type": "code",
   "execution_count": null,
   "id": "d87cf1ae9f8093be",
   "metadata": {},
   "outputs": [],
   "source": []
  }
 ],
 "metadata": {
  "kernelspec": {
   "display_name": "Python 3 (ipykernel)",
   "language": "python",
   "name": "python3"
  },
  "language_info": {
   "codemirror_mode": {
    "name": "ipython",
    "version": 3
   },
   "file_extension": ".py",
   "mimetype": "text/x-python",
   "name": "python",
   "nbconvert_exporter": "python",
   "pygments_lexer": "ipython3",
   "version": "3.9.17"
  }
 },
 "nbformat": 4,
 "nbformat_minor": 5
}
