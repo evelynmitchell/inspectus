{
 "cells": [
  {
   "cell_type": "code",
   "execution_count": 1,
   "id": "initial_id",
   "metadata": {
    "jupyter": {
     "is_executing": true
    }
   },
   "outputs": [
    {
     "data": {
      "text/html": [
       "<script src=\"https://cdn.statically.io/gist/lakshith-403/6c40cc4e37d07676f421108d9d0109a6/raw/bf7eb154f409b91a0c9afdc66dfe2cf2e8283347/labml_attn_without_sample.js\"></script><link rel=\"stylesheet\" href=\"https://cdn.statically.io/gist/lakshith-403/81b16b30a7f2c853a536f3d3975a7693/raw/aaee9494e96c5370b27821e114562d2d8e64ce39/labml_attn.css\">"
      ],
      "text/plain": [
       "<IPython.core.display.HTML object>"
      ]
     },
     "metadata": {},
     "output_type": "display_data"
    },
    {
     "data": {
      "text/html": [
       "<div id=\"id_421fcd64180e11ef99e0b2825e7af68a\"></div>"
      ],
      "text/plain": [
       "<IPython.core.display.HTML object>"
      ]
     },
     "metadata": {},
     "output_type": "display_data"
    },
    {
     "data": {
      "text/html": [
       "<script>window.chartsEmbed('id_421fcd64180e11ef99e0b2825e7af68a',{\"attention\": [{\"values\": [[0.1, 0.7, 0.2], [0.2, 0.7, 0.1], [0.1, 0.7, 0.2]], \"info\": {\"layer\": 0, \"head\": 0}}], \"src_tokens\": [\"a\", \"b\", \"c\"], \"tgt_tokens\": [\"d\", \"e\", \"f\"]})</script>"
      ],
      "text/plain": [
       "<IPython.core.display.HTML object>"
      ]
     },
     "metadata": {},
     "output_type": "display_data"
    }
   ],
   "source": [
    "from python.inspectus.txt_attention import text_attention, init_inline_viz\n",
    "import numpy as np\n",
    "\n",
    "arr = [\n",
    "    [\n",
    "        [[0.1, 0.7, 0.2],\n",
    "         [0.2, 0.7, 0.1],\n",
    "         [0.1, 0.7, 0.2],\n",
    "        ]\n",
    "    ]\n",
    "]\n",
    "\n",
    "arr = np.array(arr)\n",
    "\n",
    "init_inline_viz()\n",
    "text_attention(arr, ['a', 'b', 'c'], ['d', 'e', 'f'])"
   ]
  },
  {
   "cell_type": "code",
   "execution_count": null,
   "id": "d87cf1ae9f8093be",
   "metadata": {
    "jupyter": {
     "is_executing": true
    }
   },
   "outputs": [],
   "source": []
  }
 ],
 "metadata": {
  "kernelspec": {
   "display_name": "Python 3 (ipykernel)",
   "language": "python",
   "name": "python3"
  },
  "language_info": {
   "codemirror_mode": {
    "name": "ipython",
    "version": 3
   },
   "file_extension": ".py",
   "mimetype": "text/x-python",
   "name": "python",
   "nbconvert_exporter": "python",
   "pygments_lexer": "ipython3",
   "version": "3.9.17"
  }
 },
 "nbformat": 4,
 "nbformat_minor": 5
}
