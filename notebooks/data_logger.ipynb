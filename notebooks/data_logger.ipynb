{
 "cells": [
  {
   "cell_type": "markdown",
   "id": "a2b29c91c342dd55",
   "metadata": {},
   "source": [
    "# Data Logger\n",
    "\n",
    "[![Open In Colab](https://colab.research.google.com/assets/colab-badge.svg)](https://colab.research.google.com/github/labmlai/inspectus/blob/main/notebooks/data_logger.ipynb)\n",
    "\n",
    "Data logger is used to log data while experiments are running because the data might be too large to be stored in memory. This logs data to a file in jsonl format.\n",
    "\n",
    "Directory structure is, \n",
    "```\n",
    "experiment_name\n",
    "    |- series_name.jsonl\n",
    "```"
   ]
  },
  {
   "cell_type": "code",
   "execution_count": null,
   "id": "227b17e75f646f8d",
   "metadata": {},
   "outputs": [],
   "source": [
    "!pip install inspectus\n",
    "!pip install --upgrade altair\n",
    "!pip install labml"
   ]
  },
  {
   "cell_type": "code",
   "execution_count": null,
   "id": "initial_id",
   "metadata": {
    "collapsed": true,
    "jupyter": {
     "outputs_hidden": true
    }
   },
   "outputs": [],
   "source": [
    "from inspectus import data_logger\n",
    "\n",
    "d_log = data_logger.DataLogger(\"experiment\")\n",
    "d_log.clear() # Clear the directory in case previous data is present"
   ]
  },
  {
   "cell_type": "code",
   "execution_count": null,
   "id": "2761eb65f415d608",
   "metadata": {},
   "outputs": [],
   "source": [
    "for i in range(10):\n",
    "    d_log.save(\"series\", i**2, i) # save the value and step of current iteration"
   ]
  },
  {
   "cell_type": "code",
   "execution_count": null,
   "id": "ea26c9b90762a326",
   "metadata": {},
   "outputs": [],
   "source": [
    "# Load data\n",
    "data = d_log.read(\"series\")\n",
    "data"
   ]
  }
 ],
 "metadata": {
  "kernelspec": {
   "display_name": "Python (ml)",
   "language": "python",
   "name": "ml"
  },
  "language_info": {
   "codemirror_mode": {
    "name": "ipython",
    "version": 3
   },
   "file_extension": ".py",
   "mimetype": "text/x-python",
   "name": "python",
   "nbconvert_exporter": "python",
   "pygments_lexer": "ipython3",
   "version": "3.9.18"
  }
 },
 "nbformat": 4,
 "nbformat_minor": 5
}
