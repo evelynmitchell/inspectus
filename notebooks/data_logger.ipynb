{
 "cells": [
  {
   "metadata": {},
   "cell_type": "markdown",
   "source": [
    "Data logger is used to log data while experiments are running because the data might be too large to be stored in memory. This logs data to a file in jsonl format.\n",
    "\n",
    "Directory structure is, \n",
    "```\n",
    "experiment_name\n",
    "    |- series_name.jsonl\n",
    "```"
   ],
   "id": "a2b29c91c342dd55"
  },
  {
   "cell_type": "code",
   "id": "initial_id",
   "metadata": {
    "collapsed": true
   },
   "source": [
    "from inspectus import data_logger\n",
    "\n",
    "d_log = data_logger.DataLogger(\"experiment\")\n",
    "d_log.clear() # Clear the directory in case previous data is present"
   ],
   "outputs": [],
   "execution_count": null
  },
  {
   "metadata": {},
   "cell_type": "code",
   "source": [
    "for i in range(10):\n",
    "    d_log.save(\"series\", i**2, i) # save the value and step of current iteration"
   ],
   "id": "2761eb65f415d608",
   "outputs": [],
   "execution_count": null
  },
  {
   "metadata": {},
   "cell_type": "code",
   "source": [
    "# Load data\n",
    "data = d_log.read(\"series\")\n",
    "data"
   ],
   "id": "ea26c9b90762a326",
   "outputs": [],
   "execution_count": null
  }
 ],
 "metadata": {
  "kernelspec": {
   "display_name": "Python (ml)",
   "language": "python",
   "name": "ml"
  },
  "language_info": {
   "codemirror_mode": {
    "name": "ipython",
    "version": 2
   },
   "file_extension": ".py",
   "mimetype": "text/x-python",
   "name": "python",
   "nbconvert_exporter": "python",
   "pygments_lexer": "ipython2",
   "version": "2.7.6"
  }
 },
 "nbformat": 4,
 "nbformat_minor": 5
}
