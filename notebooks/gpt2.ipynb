{
 "cells": [
  {
   "cell_type": "markdown",
   "id": "8041c1eb051cfe0f",
   "metadata": {},
   "source": [
    "# Visualizing Attention in Huggingface Transformers\n",
    "\n",
    "[![Open In Colab](https://colab.research.google.com/assets/colab-badge.svg)](https://colab.research.google.com/github/labmlai/inspectus/blob/main/notebooks/gpt2.ipynb)\n",
    "\n",
    "This Jupyter notebook demonstrates how to use the Inspectus library with Huggingface Transformers. In this case, we will be focusing on the GPT-2 model."
   ]
  },
  {
   "cell_type": "code",
   "execution_count": null,
   "id": "68f1b1946770b738",
   "metadata": {},
   "outputs": [],
   "source": [
    "!pip install inspectus\n",
    "!pip install transformers"
   ]
  },
  {
   "cell_type": "code",
   "execution_count": null,
   "id": "e8072555",
   "metadata": {},
   "outputs": [],
   "source": [
    "from transformers import AutoTokenizer, AutoConfig, GPT2LMHeadModel\n",
    "import inspectus\n",
    "import torch"
   ]
  },
  {
   "cell_type": "markdown",
   "id": "2a5e07d24813ccd3",
   "metadata": {},
   "source": [
    "Following cell sets up a GPT-2 model from Huggingface's Transformers library. It initializes the tokenizer and model configuration, then creates the GPT-2 model."
   ]
  },
  {
   "cell_type": "code",
   "execution_count": null,
   "id": "c2ad514eed6113",
   "metadata": {
    "scrolled": true
   },
   "outputs": [],
   "source": [
    "context_length = 128\n",
    "tokenizer = AutoTokenizer.from_pretrained(\"huggingface-course/code-search-net-tokenizer\")\n",
    "\n",
    "config = AutoConfig.from_pretrained(\n",
    "    \"gpt2\",\n",
    "    vocab_size=len(tokenizer),\n",
    "    n_ctx=context_length,\n",
    "    bos_token_id=tokenizer.bos_token_id,\n",
    "    eos_token_id=tokenizer.eos_token_id,\n",
    ")\n",
    "\n",
    "model = GPT2LMHeadModel(config)\n",
    "model_size = sum(t.numel() for t in model.parameters())\n",
    "print(f\"GPT-2 size: {model_size/1000**2:.1f}M parameters\")"
   ]
  },
  {
   "cell_type": "markdown",
   "id": "c2894fcb393bff24",
   "metadata": {},
   "source": [
    "This cell takes a sentence and tokenizes it using the previously initialized tokenizer. The tokenized output is then used to create input IDs for the model and a list of tokens. It uses the 'offset_mapping' attribute returned by the tokenizer to slice the original text into individual tokens."
   ]
  },
  {
   "cell_type": "code",
   "execution_count": null,
   "id": "51736f32cffc40be",
   "metadata": {},
   "outputs": [],
   "source": [
    "text= 'The quick brown fox jumps over the lazy dog'\n",
    "tokenized = tokenizer(\n",
    "    text,\n",
    "    return_tensors='pt',\n",
    "    return_offsets_mapping=True\n",
    ")\n",
    "input_ids = tokenized['input_ids']\n",
    "\n",
    "tokens = [text[s: e] for s, e in tokenized['offset_mapping'][0]]"
   ]
  },
  {
   "cell_type": "code",
   "execution_count": null,
   "id": "29068315c3fd185a",
   "metadata": {},
   "outputs": [],
   "source": [
    "with torch.no_grad():\n",
    "    res = model(input_ids=input_ids.to(model.device), output_attentions=True)"
   ]
  },
  {
   "cell_type": "markdown",
   "id": "cbf6dee42ca79258",
   "metadata": {},
   "source": [
    "The `attention` function from the Inspectus library is used to visualize the attention weights. The function takes the attention weights from the model output and the list of tokens as input. The `chart_types` parameter specifies the types of visualizations to be generated. The `color` parameter is used to specify the color palette for the visualizations."
   ]
  },
  {
   "cell_type": "code",
   "execution_count": null,
   "id": "8c742798",
   "metadata": {},
   "outputs": [],
   "source": [
    "inspectus.attention(res['attentions'], tokens, \n",
    "          chart_types=['attention_matrix', 'query_token_heatmap', 'key_token_heatmap', 'dimension_heatmap', 'token_dim_heatmap', 'line_grid']\n",
    "             ,color={\n",
    "                 'query_token_heatmap': 'orange',\n",
    "                 'key_token_heatmap': 'green',\n",
    "                 'token_dim_heatmap': 'red',\n",
    "             }\n",
    "         )"
   ]
  },
  {
   "cell_type": "code",
   "execution_count": null,
   "id": "171cdae6",
   "metadata": {},
   "outputs": [],
   "source": []
  }
 ],
 "metadata": {
  "kernelspec": {
   "display_name": "Python 3 (ipykernel)",
   "language": "python",
   "name": "python3"
  },
  "language_info": {
   "codemirror_mode": {
    "name": "ipython",
    "version": 3
   },
   "file_extension": ".py",
   "mimetype": "text/x-python",
   "name": "python",
   "nbconvert_exporter": "python",
   "pygments_lexer": "ipython3",
   "version": "3.9.18"
  }
 },
 "nbformat": 4,
 "nbformat_minor": 5
}
